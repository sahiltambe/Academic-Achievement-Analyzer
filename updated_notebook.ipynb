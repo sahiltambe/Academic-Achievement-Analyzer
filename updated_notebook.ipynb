{
 "cells": [
  {
   "attachments": {},
   "cell_type": "markdown",
   "id": "92e48866",
   "metadata": {},
   "source": [
    "## Model Training"
   ]
  },
  {
   "cell_type": "markdown",
   "id": "25791a74",
   "metadata": {},
   "source": [
    "#### 1.1 Import Data and Required Packages\n",
    "##### Importing Pandas, Numpy, Matplotlib, Seaborn and Warings Library."
   ]
  },
  {
   "cell_type": "code",
   "execution_count": 18,
   "id": "b080dfb2",
   "metadata": {},
   "outputs": [],
   "source": [
    "# Basic Import\n",
    "import numpy as np\n",
    "import pandas as pd\n",
    "import matplotlib.pyplot as plt \n",
    "# Modelling\n",
    "from sklearn import preprocessing\n",
    "from sklearn.model_selection import cross_val_score\n",
    "from sklearn.metrics import mean_squared_error, r2_score\n",
    "from sklearn.ensemble import RandomForestRegressor\n",
    "from sklearn.metrics import r2_score, mean_absolute_error, mean_squared_error\n",
    "from sklearn.model_selection import train_test_split\n",
    "import warnings"
   ]
  },
  {
   "cell_type": "markdown",
   "id": "e45079ad",
   "metadata": {},
   "source": [
    "#### Import the CSV Data as Pandas DataFrame"
   ]
  },
  {
   "cell_type": "code",
   "execution_count": 19,
   "id": "e11c6255",
   "metadata": {},
   "outputs": [],
   "source": [
    "df = pd.read_csv('stud.csv')"
   ]
  },
  {
   "cell_type": "code",
   "execution_count": 20,
   "id": "58d84d21",
   "metadata": {},
   "outputs": [
    {
     "data": {
      "text/plain": [
       "['gender',\n",
       " 'race_ethnicity',\n",
       " 'parental_level_of_education',\n",
       " 'lunch',\n",
       " 'test_preparation_course']"
      ]
     },
     "execution_count": 20,
     "metadata": {},
     "output_type": "execute_result"
    }
   ],
   "source": [
    "categorical_data = [i for i in df.columns if df[i].dtype==\"object\"]\n",
    "categorical_data"
   ]
  },
  {
   "cell_type": "code",
   "execution_count": 21,
   "id": "c526db05",
   "metadata": {},
   "outputs": [
    {
     "data": {
      "text/plain": [
       "['math_score', 'reading_score', 'writing_score']"
      ]
     },
     "execution_count": 21,
     "metadata": {},
     "output_type": "execute_result"
    }
   ],
   "source": [
    "numerical_data = [i for i in df.columns if df[i].dtype!=\"object\"]\n",
    "numerical_data"
   ]
  },
  {
   "cell_type": "code",
   "execution_count": 22,
   "id": "e1edc96a",
   "metadata": {},
   "outputs": [
    {
     "data": {
      "text/plain": [
       "['math_score', 'reading_score', 'writing_score']"
      ]
     },
     "execution_count": 22,
     "metadata": {},
     "output_type": "execute_result"
    }
   ],
   "source": [
    "continuous_numerical_data = [i for i in numerical_data if len(df[i].unique())>=16]\n",
    "continuous_numerical_data"
   ]
  },
  {
   "cell_type": "code",
   "execution_count": 23,
   "id": "a21e9536",
   "metadata": {},
   "outputs": [],
   "source": [
    "# We will encode the categorical data using label Encoder.\n",
    "le = preprocessing.LabelEncoder()\n",
    "\n",
    "for i in categorical_data:\n",
    "    df[i] = le.fit_transform(df[i])"
   ]
  },
  {
   "cell_type": "code",
   "execution_count": 24,
   "id": "cfd27ed3",
   "metadata": {},
   "outputs": [],
   "source": [
    "# Log Transformation\n",
    "for i in [\"reading_score\", \"writing_score\"]:\n",
    "    df[i] = np.log(df[i])"
   ]
  },
  {
   "cell_type": "markdown",
   "id": "fbd32281",
   "metadata": {},
   "source": [
    "#### Preparing X and Y variables"
   ]
  },
  {
   "cell_type": "code",
   "execution_count": 25,
   "id": "eded0b30",
   "metadata": {},
   "outputs": [],
   "source": [
    "X = df.drop(columns = \"math_score\")\n",
    "y = df[\"math_score\"]"
   ]
  },
  {
   "cell_type": "code",
   "execution_count": 26,
   "id": "ed5c4e99",
   "metadata": {},
   "outputs": [
    {
     "data": {
      "text/plain": [
       "((700, 7), (300, 7))"
      ]
     },
     "execution_count": 26,
     "metadata": {},
     "output_type": "execute_result"
    }
   ],
   "source": [
    "# separate dataset into train and test\n",
    "X_train, X_test, y_train, y_test = train_test_split(X,y,test_size=0.3,random_state=42)\n",
    "X_train.shape, X_test.shape"
   ]
  },
  {
   "cell_type": "markdown",
   "id": "4cd80317",
   "metadata": {},
   "source": [
    "#### Create an Evaluate Function to give all metrics after model Training"
   ]
  },
  {
   "cell_type": "code",
   "execution_count": 27,
   "id": "8c247bd0",
   "metadata": {},
   "outputs": [],
   "source": [
    "def evaluate_model(true, predicted):\n",
    "    mae = mean_absolute_error(true, predicted)\n",
    "    mse = mean_squared_error(true, predicted)\n",
    "    rmse = np.sqrt(mean_squared_error(true, predicted))\n",
    "    r2_square = r2_score(true, predicted)\n",
    "    return mae, rmse, r2_square"
   ]
  },
  {
   "cell_type": "code",
   "execution_count": 28,
   "id": "f9eb3116",
   "metadata": {},
   "outputs": [
    {
     "name": "stdout",
     "output_type": "stream",
     "text": [
      "Random Forest Regressor\n",
      "Model performance for Training set\n",
      "- Root Mean Squared Error: 2.2929\n",
      "- Mean Absolute Error: 1.8282\n",
      "- R2 Score: 0.9762\n",
      "\n",
      "----------------------------------\n",
      "\n",
      "Model performance for Test set\n",
      "- Root Mean Squared Error: 6.1908\n",
      "- Mean Absolute Error: 4.8760\n",
      "- R2 Score: 0.8460\n",
      "===================================\n",
      "\n",
      "\n"
     ]
    }
   ],
   "source": [
    "models = {\n",
    "    \"Random Forest Regressor\": RandomForestRegressor()\n",
    "}\n",
    "model_list = []\n",
    "r2_list =[]\n",
    "\n",
    "for i in range(len(list(models))):\n",
    "    model = list(models.values())[i]\n",
    "    model.fit(X_train, y_train) # Train model\n",
    "\n",
    "    # Make predictions\n",
    "    y_train_pred = model.predict(X_train)\n",
    "    y_test_pred = model.predict(X_test)\n",
    "    \n",
    "    # Evaluate Train and Test dataset\n",
    "    model_train_mae , model_train_rmse, model_train_r2 = evaluate_model(y_train, y_train_pred)\n",
    "\n",
    "    model_test_mae , model_test_rmse, model_test_r2 = evaluate_model(y_test, y_test_pred)\n",
    "\n",
    "    \n",
    "    print(list(models.keys())[i])\n",
    "    model_list.append(list(models.keys())[i])\n",
    "    \n",
    "    print('Model performance for Training set')\n",
    "    print(\"- Root Mean Squared Error: {:.4f}\".format(model_train_rmse))\n",
    "    print(\"- Mean Absolute Error: {:.4f}\".format(model_train_mae))\n",
    "    print(\"- R2 Score: {:.4f}\".format(model_train_r2))\n",
    "    print()\n",
    "    print('----------------------------------')\n",
    "    print()\n",
    "    \n",
    "    print('Model performance for Test set')\n",
    "    print(\"- Root Mean Squared Error: {:.4f}\".format(model_test_rmse))\n",
    "    print(\"- Mean Absolute Error: {:.4f}\".format(model_test_mae))\n",
    "    print(\"- R2 Score: {:.4f}\".format(model_test_r2))\n",
    "    r2_list.append(model_test_r2)\n",
    "    \n",
    "    print('='*35)\n",
    "    print('\\n')"
   ]
  },
  {
   "cell_type": "markdown",
   "id": "06480b5a",
   "metadata": {},
   "source": [
    "### Results"
   ]
  },
  {
   "cell_type": "code",
   "execution_count": 29,
   "id": "e0159e5f",
   "metadata": {},
   "outputs": [
    {
     "data": {
      "text/html": [
       "<div>\n",
       "<style scoped>\n",
       "    .dataframe tbody tr th:only-of-type {\n",
       "        vertical-align: middle;\n",
       "    }\n",
       "\n",
       "    .dataframe tbody tr th {\n",
       "        vertical-align: top;\n",
       "    }\n",
       "\n",
       "    .dataframe thead th {\n",
       "        text-align: right;\n",
       "    }\n",
       "</style>\n",
       "<table border=\"1\" class=\"dataframe\">\n",
       "  <thead>\n",
       "    <tr style=\"text-align: right;\">\n",
       "      <th></th>\n",
       "      <th>Model Name</th>\n",
       "      <th>R2_Score</th>\n",
       "    </tr>\n",
       "  </thead>\n",
       "  <tbody>\n",
       "    <tr>\n",
       "      <th>0</th>\n",
       "      <td>Random Forest Regressor</td>\n",
       "      <td>0.845961</td>\n",
       "    </tr>\n",
       "  </tbody>\n",
       "</table>\n",
       "</div>"
      ],
      "text/plain": [
       "                Model Name  R2_Score\n",
       "0  Random Forest Regressor  0.845961"
      ]
     },
     "execution_count": 29,
     "metadata": {},
     "output_type": "execute_result"
    }
   ],
   "source": [
    "pd.DataFrame(list(zip(model_list, r2_list)), columns=['Model Name', 'R2_Score']).sort_values(by=[\"R2_Score\"],ascending=False)"
   ]
  },
  {
   "cell_type": "markdown",
   "id": "67614d96",
   "metadata": {},
   "source": [
    "## Random Forest Regressor"
   ]
  },
  {
   "cell_type": "code",
   "execution_count": 30,
   "id": "2b854e0c",
   "metadata": {},
   "outputs": [
    {
     "name": "stdout",
     "output_type": "stream",
     "text": [
      "Accuracy of the Random Forest model is 84.44\n"
     ]
    }
   ],
   "source": [
    "# Import the RandomForestRegressor class from the ensemble module\n",
    "from sklearn.ensemble import RandomForestRegressor\n",
    "\n",
    "# Instantiate the RandomForestRegressor with default hyperparameters\n",
    "model = RandomForestRegressor(random_state=42)\n",
    "\n",
    "# Train the model on the training data\n",
    "model.fit(X_train, y_train)\n",
    "\n",
    "# Make predictions on the testing data\n",
    "y_pred_rf = model.predict(X_test)\n",
    "\n",
    "# Calculate R-squared score\n",
    "score_rf = r2_score(y_test, y_pred_rf) * 100\n",
    "\n",
    "print(\"Accuracy of the Random Forest model is %.2f\" % score_rf)\n"
   ]
  },
  {
   "cell_type": "code",
   "execution_count": 31,
   "id": "376f90ba",
   "metadata": {},
   "outputs": [
    {
     "name": "stdout",
     "output_type": "stream",
     "text": [
      "Cross validation is 83.62571898492392\n"
     ]
    }
   ],
   "source": [
    "score = cross_val_score(model, X, y, cv=5)\n",
    "print(\"Cross validation is\",np.mean(score)*100)"
   ]
  },
  {
   "cell_type": "code",
   "execution_count": 32,
   "id": "7784a5fe",
   "metadata": {},
   "outputs": [
    {
     "name": "stdout",
     "output_type": "stream",
     "text": [
      "Predicted math score: 94.04309523809523\n"
     ]
    }
   ],
   "source": [
    "# Create a dictionary with values for each feature\n",
    "new_data = {\n",
    "    'gender': 1,  # Example: 1 for male, 0 for female\n",
    "    'race_ethnicity': 2,  # Example: 0 for group A, 1 for group B, and so on\n",
    "    'parental_level_of_education': 3,  # Example: 0 for bachelor's degree, 1 for some college, and so on\n",
    "    'lunch': 1,  # Example: 1 for standard, 0 for free/reduced\n",
    "    'test_preparation_course': 0,  # Example: 1 for completed, 0 for none\n",
    "    'reading_score': 85,  # Example: 85\n",
    "    'writing_score': 90  # Example: 90\n",
    "}\n",
    "\n",
    "# Convert the dictionary to a DataFrame\n",
    "new_df = pd.DataFrame([new_data])\n",
    "\n",
    "# Make prediction using the trained Random Forest model\n",
    "predicted_math_score = model.predict(new_df)\n",
    "\n",
    "print(\"Predicted math score:\", predicted_math_score[0])\n"
   ]
  },
  {
   "cell_type": "code",
   "execution_count": 33,
   "id": "3c1f259e",
   "metadata": {},
   "outputs": [],
   "source": [
    "import pickle\n",
    "# open a file, where you want to store the data\n",
    "file = open('random-forest.pkl', 'wb')\n",
    "\n",
    "# dump information to that file\n",
    "pickle.dump(model, file)"
   ]
  },
  {
   "cell_type": "code",
   "execution_count": 34,
   "id": "ed70a371",
   "metadata": {},
   "outputs": [],
   "source": [
    "# import joblib\n",
    "\n",
    "# le = {}\n",
    "# for col in ['gender', 'race_ethnicity', 'parental_level_of_education', 'lunch', 'test_preparation_course']:\n",
    "#     le[col] = preprocessing.LabelEncoder()\n",
    "#     df[col] = le[col].fit_transform(df[col])\n",
    "    \n",
    "# joblib.dump(le, 'label_encoders.joblib')\n"
   ]
  },
  {
   "cell_type": "code",
   "execution_count": 35,
   "id": "edc538e7",
   "metadata": {},
   "outputs": [],
   "source": [
    "# import pandas as pd\n",
    "# import numpy as np\n",
    "# from sklearn import preprocessing\n",
    "# from sklearn.ensemble import RandomForestRegressor\n",
    "# import joblib\n",
    "# import pickle\n",
    "\n",
    "# # Load your dataset\n",
    "# df = pd.read_csv('stud.csv')\n",
    "\n",
    "# # Encode categorical data\n",
    "# le = {}\n",
    "# categorical_data = ['gender', 'race_ethnicity', 'parental_level_of_education', 'lunch', 'test_preparation_course']\n",
    "# for col in categorical_data:\n",
    "#     le[col] = preprocessing.LabelEncoder()\n",
    "#     df[col] = le[col].fit_transform(df[col])\n",
    "\n",
    "# # Save the label encoders\n",
    "# joblib.dump(le, 'label_encoders.joblib')\n",
    "\n",
    "# # Log Transformation\n",
    "# for col in [\"reading_score\", \"writing_score\"]:\n",
    "#     df[col] = np.log(df[col])\n",
    "\n",
    "# # Prepare X and Y variables\n",
    "# X = df.drop(columns=\"math_score\")\n",
    "# y = df[\"math_score\"]\n",
    "\n",
    "# # Train the RandomForestRegressor model\n",
    "# model = RandomForestRegressor(random_state=42)\n",
    "# model.fit(X_train, y_train)\n",
    "\n",
    "# # Save the trained model\n",
    "# with open('model.pkl', 'wb') as model_file:\n",
    "#     pickle.dump(model, model_file)\n"
   ]
  }
 ],
 "metadata": {
  "kernelspec": {
   "display_name": "Python 3 (ipykernel)",
   "language": "python",
   "name": "python3"
  },
  "language_info": {
   "codemirror_mode": {
    "name": "ipython",
    "version": 3
   },
   "file_extension": ".py",
   "mimetype": "text/x-python",
   "name": "python",
   "nbconvert_exporter": "python",
   "pygments_lexer": "ipython3",
   "version": "3.9.19"
  }
 },
 "nbformat": 4,
 "nbformat_minor": 5
}

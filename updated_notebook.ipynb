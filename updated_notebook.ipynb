{
 "cells": [
  {
   "attachments": {},
   "cell_type": "markdown",
   "id": "92e48866",
   "metadata": {},
   "source": [
    "## Model Training"
   ]
  },
  {
   "cell_type": "markdown",
   "id": "25791a74",
   "metadata": {},
   "source": [
    "#### 1.1 Import Data and Required Packages\n",
    "##### Importing Pandas, Numpy, Matplotlib, Seaborn and Warings Library."
   ]
  },
  {
   "cell_type": "code",
   "execution_count": 1,
   "id": "b080dfb2",
   "metadata": {},
   "outputs": [],
   "source": [
    "# Basic Import\n",
    "import numpy as np\n",
    "import pandas as pd\n",
    "import matplotlib.pyplot as plt \n",
    "import seaborn as sns\n",
    "# Modelling\n",
    "from sklearn import preprocessing\n",
    "from sklearn.model_selection import cross_val_score\n",
    "from sklearn.metrics import mean_squared_error, r2_score\n",
    "from sklearn.neighbors import KNeighborsRegressor\n",
    "from sklearn.tree import DecisionTreeRegressor\n",
    "from sklearn.ensemble import RandomForestRegressor,AdaBoostRegressor\n",
    "from sklearn.svm import SVR\n",
    "from sklearn.linear_model import LinearRegression, Ridge,Lasso\n",
    "from sklearn.metrics import r2_score, mean_absolute_error, mean_squared_error\n",
    "from sklearn.model_selection import RandomizedSearchCV\n",
    "from catboost import CatBoostRegressor\n",
    "from xgboost import XGBRegressor\n",
    "from sklearn.model_selection import train_test_split\n",
    "import warnings"
   ]
  },
  {
   "cell_type": "code",
   "execution_count": 2,
   "id": "b9e47d92",
   "metadata": {},
   "outputs": [
    {
     "data": {
      "text/plain": [
       "array(['female', 'male'], dtype=object)"
      ]
     },
     "execution_count": 2,
     "metadata": {},
     "output_type": "execute_result"
    }
   ],
   "source": [
    "data = pd.read_csv('notebook\\data\\stud.csv')\n",
    "data.gender.unique()"
   ]
  },
  {
   "cell_type": "markdown",
   "id": "e45079ad",
   "metadata": {},
   "source": [
    "#### Import the CSV Data as Pandas DataFrame"
   ]
  },
  {
   "cell_type": "code",
   "execution_count": 3,
   "id": "e11c6255",
   "metadata": {},
   "outputs": [],
   "source": [
    "df = pd.read_csv('notebook\\data\\stud.csv')"
   ]
  },
  {
   "cell_type": "markdown",
   "id": "20634923",
   "metadata": {},
   "source": [
    "#### Show Top 5 Records"
   ]
  },
  {
   "cell_type": "code",
   "execution_count": 4,
   "id": "e7e412a2",
   "metadata": {},
   "outputs": [
    {
     "data": {
      "text/html": [
       "<div>\n",
       "<style scoped>\n",
       "    .dataframe tbody tr th:only-of-type {\n",
       "        vertical-align: middle;\n",
       "    }\n",
       "\n",
       "    .dataframe tbody tr th {\n",
       "        vertical-align: top;\n",
       "    }\n",
       "\n",
       "    .dataframe thead th {\n",
       "        text-align: right;\n",
       "    }\n",
       "</style>\n",
       "<table border=\"1\" class=\"dataframe\">\n",
       "  <thead>\n",
       "    <tr style=\"text-align: right;\">\n",
       "      <th></th>\n",
       "      <th>gender</th>\n",
       "      <th>race_ethnicity</th>\n",
       "      <th>parental_level_of_education</th>\n",
       "      <th>lunch</th>\n",
       "      <th>test_preparation_course</th>\n",
       "      <th>math_score</th>\n",
       "      <th>reading_score</th>\n",
       "      <th>writing_score</th>\n",
       "    </tr>\n",
       "  </thead>\n",
       "  <tbody>\n",
       "    <tr>\n",
       "      <th>0</th>\n",
       "      <td>female</td>\n",
       "      <td>group B</td>\n",
       "      <td>bachelor's degree</td>\n",
       "      <td>standard</td>\n",
       "      <td>none</td>\n",
       "      <td>72</td>\n",
       "      <td>72</td>\n",
       "      <td>74</td>\n",
       "    </tr>\n",
       "    <tr>\n",
       "      <th>1</th>\n",
       "      <td>female</td>\n",
       "      <td>group C</td>\n",
       "      <td>some college</td>\n",
       "      <td>standard</td>\n",
       "      <td>completed</td>\n",
       "      <td>69</td>\n",
       "      <td>90</td>\n",
       "      <td>88</td>\n",
       "    </tr>\n",
       "    <tr>\n",
       "      <th>2</th>\n",
       "      <td>female</td>\n",
       "      <td>group B</td>\n",
       "      <td>master's degree</td>\n",
       "      <td>standard</td>\n",
       "      <td>none</td>\n",
       "      <td>90</td>\n",
       "      <td>95</td>\n",
       "      <td>93</td>\n",
       "    </tr>\n",
       "    <tr>\n",
       "      <th>3</th>\n",
       "      <td>male</td>\n",
       "      <td>group A</td>\n",
       "      <td>associate's degree</td>\n",
       "      <td>free/reduced</td>\n",
       "      <td>none</td>\n",
       "      <td>47</td>\n",
       "      <td>57</td>\n",
       "      <td>44</td>\n",
       "    </tr>\n",
       "    <tr>\n",
       "      <th>4</th>\n",
       "      <td>male</td>\n",
       "      <td>group C</td>\n",
       "      <td>some college</td>\n",
       "      <td>standard</td>\n",
       "      <td>none</td>\n",
       "      <td>76</td>\n",
       "      <td>78</td>\n",
       "      <td>75</td>\n",
       "    </tr>\n",
       "  </tbody>\n",
       "</table>\n",
       "</div>"
      ],
      "text/plain": [
       "   gender race_ethnicity parental_level_of_education         lunch  \\\n",
       "0  female        group B           bachelor's degree      standard   \n",
       "1  female        group C                some college      standard   \n",
       "2  female        group B             master's degree      standard   \n",
       "3    male        group A          associate's degree  free/reduced   \n",
       "4    male        group C                some college      standard   \n",
       "\n",
       "  test_preparation_course  math_score  reading_score  writing_score  \n",
       "0                    none          72             72             74  \n",
       "1               completed          69             90             88  \n",
       "2                    none          90             95             93  \n",
       "3                    none          47             57             44  \n",
       "4                    none          76             78             75  "
      ]
     },
     "execution_count": 4,
     "metadata": {},
     "output_type": "execute_result"
    }
   ],
   "source": [
    "df.head()"
   ]
  },
  {
   "cell_type": "code",
   "execution_count": 5,
   "id": "80369bae",
   "metadata": {},
   "outputs": [
    {
     "name": "stdout",
     "output_type": "stream",
     "text": [
      "<class 'pandas.core.frame.DataFrame'>\n",
      "RangeIndex: 1000 entries, 0 to 999\n",
      "Data columns (total 8 columns):\n",
      " #   Column                       Non-Null Count  Dtype \n",
      "---  ------                       --------------  ----- \n",
      " 0   gender                       1000 non-null   object\n",
      " 1   race_ethnicity               1000 non-null   object\n",
      " 2   parental_level_of_education  1000 non-null   object\n",
      " 3   lunch                        1000 non-null   object\n",
      " 4   test_preparation_course      1000 non-null   object\n",
      " 5   math_score                   1000 non-null   int64 \n",
      " 6   reading_score                1000 non-null   int64 \n",
      " 7   writing_score                1000 non-null   int64 \n",
      "dtypes: int64(3), object(5)\n",
      "memory usage: 62.6+ KB\n"
     ]
    }
   ],
   "source": [
    "df.info()"
   ]
  },
  {
   "cell_type": "code",
   "execution_count": 6,
   "id": "58d84d21",
   "metadata": {},
   "outputs": [
    {
     "data": {
      "text/plain": [
       "['gender',\n",
       " 'race_ethnicity',\n",
       " 'parental_level_of_education',\n",
       " 'lunch',\n",
       " 'test_preparation_course']"
      ]
     },
     "execution_count": 6,
     "metadata": {},
     "output_type": "execute_result"
    }
   ],
   "source": [
    "categorical_data = [i for i in df.columns if df[i].dtype==\"object\"]\n",
    "categorical_data"
   ]
  },
  {
   "cell_type": "code",
   "execution_count": 7,
   "id": "c526db05",
   "metadata": {},
   "outputs": [
    {
     "data": {
      "text/plain": [
       "['math_score', 'reading_score', 'writing_score']"
      ]
     },
     "execution_count": 7,
     "metadata": {},
     "output_type": "execute_result"
    }
   ],
   "source": [
    "numerical_data = [i for i in df.columns if df[i].dtype!=\"object\"]\n",
    "numerical_data"
   ]
  },
  {
   "cell_type": "code",
   "execution_count": 8,
   "id": "3c9293db",
   "metadata": {},
   "outputs": [
    {
     "data": {
      "text/plain": [
       "gender                         1000\n",
       "race_ethnicity                 1000\n",
       "parental_level_of_education    1000\n",
       "lunch                          1000\n",
       "test_preparation_course        1000\n",
       "math_score                     1000\n",
       "reading_score                  1000\n",
       "writing_score                  1000\n",
       "dtype: int64"
      ]
     },
     "execution_count": 8,
     "metadata": {},
     "output_type": "execute_result"
    }
   ],
   "source": [
    "df.isnull().count()"
   ]
  },
  {
   "cell_type": "code",
   "execution_count": 9,
   "id": "d90604e4",
   "metadata": {},
   "outputs": [
    {
     "data": {
      "text/plain": [
       "[]"
      ]
     },
     "execution_count": 9,
     "metadata": {},
     "output_type": "execute_result"
    }
   ],
   "source": [
    "discrete_numerical_data = [i for i in numerical_data if len(df[i].unique())<16]\n",
    "discrete_numerical_data"
   ]
  },
  {
   "cell_type": "code",
   "execution_count": 10,
   "id": "e1edc96a",
   "metadata": {},
   "outputs": [
    {
     "data": {
      "text/plain": [
       "['math_score', 'reading_score', 'writing_score']"
      ]
     },
     "execution_count": 10,
     "metadata": {},
     "output_type": "execute_result"
    }
   ],
   "source": [
    "continuous_numerical_data = [i for i in numerical_data if len(df[i].unique())>=16]\n",
    "continuous_numerical_data"
   ]
  },
  {
   "cell_type": "code",
   "execution_count": 11,
   "id": "a21e9536",
   "metadata": {},
   "outputs": [],
   "source": [
    "# We will encode the categorical data using label Encoder.\n",
    "le = preprocessing.LabelEncoder()\n",
    "\n",
    "for i in categorical_data:\n",
    "    df[i] = le.fit_transform(df[i])"
   ]
  },
  {
   "cell_type": "code",
   "execution_count": 12,
   "id": "3bc9cd59",
   "metadata": {},
   "outputs": [
    {
     "data": {
      "text/html": [
       "<div>\n",
       "<style scoped>\n",
       "    .dataframe tbody tr th:only-of-type {\n",
       "        vertical-align: middle;\n",
       "    }\n",
       "\n",
       "    .dataframe tbody tr th {\n",
       "        vertical-align: top;\n",
       "    }\n",
       "\n",
       "    .dataframe thead th {\n",
       "        text-align: right;\n",
       "    }\n",
       "</style>\n",
       "<table border=\"1\" class=\"dataframe\">\n",
       "  <thead>\n",
       "    <tr style=\"text-align: right;\">\n",
       "      <th></th>\n",
       "      <th>gender</th>\n",
       "      <th>race_ethnicity</th>\n",
       "      <th>parental_level_of_education</th>\n",
       "      <th>lunch</th>\n",
       "      <th>test_preparation_course</th>\n",
       "      <th>math_score</th>\n",
       "      <th>reading_score</th>\n",
       "      <th>writing_score</th>\n",
       "    </tr>\n",
       "  </thead>\n",
       "  <tbody>\n",
       "    <tr>\n",
       "      <th>0</th>\n",
       "      <td>0</td>\n",
       "      <td>1</td>\n",
       "      <td>1</td>\n",
       "      <td>1</td>\n",
       "      <td>1</td>\n",
       "      <td>72</td>\n",
       "      <td>72</td>\n",
       "      <td>74</td>\n",
       "    </tr>\n",
       "    <tr>\n",
       "      <th>1</th>\n",
       "      <td>0</td>\n",
       "      <td>2</td>\n",
       "      <td>4</td>\n",
       "      <td>1</td>\n",
       "      <td>0</td>\n",
       "      <td>69</td>\n",
       "      <td>90</td>\n",
       "      <td>88</td>\n",
       "    </tr>\n",
       "    <tr>\n",
       "      <th>2</th>\n",
       "      <td>0</td>\n",
       "      <td>1</td>\n",
       "      <td>3</td>\n",
       "      <td>1</td>\n",
       "      <td>1</td>\n",
       "      <td>90</td>\n",
       "      <td>95</td>\n",
       "      <td>93</td>\n",
       "    </tr>\n",
       "    <tr>\n",
       "      <th>3</th>\n",
       "      <td>1</td>\n",
       "      <td>0</td>\n",
       "      <td>0</td>\n",
       "      <td>0</td>\n",
       "      <td>1</td>\n",
       "      <td>47</td>\n",
       "      <td>57</td>\n",
       "      <td>44</td>\n",
       "    </tr>\n",
       "    <tr>\n",
       "      <th>4</th>\n",
       "      <td>1</td>\n",
       "      <td>2</td>\n",
       "      <td>4</td>\n",
       "      <td>1</td>\n",
       "      <td>1</td>\n",
       "      <td>76</td>\n",
       "      <td>78</td>\n",
       "      <td>75</td>\n",
       "    </tr>\n",
       "  </tbody>\n",
       "</table>\n",
       "</div>"
      ],
      "text/plain": [
       "   gender  race_ethnicity  parental_level_of_education  lunch  \\\n",
       "0       0               1                            1      1   \n",
       "1       0               2                            4      1   \n",
       "2       0               1                            3      1   \n",
       "3       1               0                            0      0   \n",
       "4       1               2                            4      1   \n",
       "\n",
       "   test_preparation_course  math_score  reading_score  writing_score  \n",
       "0                        1          72             72             74  \n",
       "1                        0          69             90             88  \n",
       "2                        1          90             95             93  \n",
       "3                        1          47             57             44  \n",
       "4                        1          76             78             75  "
      ]
     },
     "execution_count": 12,
     "metadata": {},
     "output_type": "execute_result"
    }
   ],
   "source": [
    "df.head()"
   ]
  },
  {
   "cell_type": "code",
   "execution_count": 13,
   "id": "cfd27ed3",
   "metadata": {},
   "outputs": [],
   "source": [
    "# Log Transformation\n",
    "for i in [\"reading_score\", \"writing_score\"]:\n",
    "    df[i] = np.log(df[i])"
   ]
  },
  {
   "cell_type": "code",
   "execution_count": 14,
   "id": "455d0856",
   "metadata": {},
   "outputs": [
    {
     "data": {
      "text/html": [
       "<div>\n",
       "<style scoped>\n",
       "    .dataframe tbody tr th:only-of-type {\n",
       "        vertical-align: middle;\n",
       "    }\n",
       "\n",
       "    .dataframe tbody tr th {\n",
       "        vertical-align: top;\n",
       "    }\n",
       "\n",
       "    .dataframe thead th {\n",
       "        text-align: right;\n",
       "    }\n",
       "</style>\n",
       "<table border=\"1\" class=\"dataframe\">\n",
       "  <thead>\n",
       "    <tr style=\"text-align: right;\">\n",
       "      <th></th>\n",
       "      <th>gender</th>\n",
       "      <th>race_ethnicity</th>\n",
       "      <th>parental_level_of_education</th>\n",
       "      <th>lunch</th>\n",
       "      <th>test_preparation_course</th>\n",
       "      <th>math_score</th>\n",
       "      <th>reading_score</th>\n",
       "      <th>writing_score</th>\n",
       "    </tr>\n",
       "  </thead>\n",
       "  <tbody>\n",
       "    <tr>\n",
       "      <th>0</th>\n",
       "      <td>0</td>\n",
       "      <td>1</td>\n",
       "      <td>1</td>\n",
       "      <td>1</td>\n",
       "      <td>1</td>\n",
       "      <td>72</td>\n",
       "      <td>4.276666</td>\n",
       "      <td>4.304065</td>\n",
       "    </tr>\n",
       "    <tr>\n",
       "      <th>1</th>\n",
       "      <td>0</td>\n",
       "      <td>2</td>\n",
       "      <td>4</td>\n",
       "      <td>1</td>\n",
       "      <td>0</td>\n",
       "      <td>69</td>\n",
       "      <td>4.499810</td>\n",
       "      <td>4.477337</td>\n",
       "    </tr>\n",
       "    <tr>\n",
       "      <th>2</th>\n",
       "      <td>0</td>\n",
       "      <td>1</td>\n",
       "      <td>3</td>\n",
       "      <td>1</td>\n",
       "      <td>1</td>\n",
       "      <td>90</td>\n",
       "      <td>4.553877</td>\n",
       "      <td>4.532599</td>\n",
       "    </tr>\n",
       "    <tr>\n",
       "      <th>3</th>\n",
       "      <td>1</td>\n",
       "      <td>0</td>\n",
       "      <td>0</td>\n",
       "      <td>0</td>\n",
       "      <td>1</td>\n",
       "      <td>47</td>\n",
       "      <td>4.043051</td>\n",
       "      <td>3.784190</td>\n",
       "    </tr>\n",
       "    <tr>\n",
       "      <th>4</th>\n",
       "      <td>1</td>\n",
       "      <td>2</td>\n",
       "      <td>4</td>\n",
       "      <td>1</td>\n",
       "      <td>1</td>\n",
       "      <td>76</td>\n",
       "      <td>4.356709</td>\n",
       "      <td>4.317488</td>\n",
       "    </tr>\n",
       "  </tbody>\n",
       "</table>\n",
       "</div>"
      ],
      "text/plain": [
       "   gender  race_ethnicity  parental_level_of_education  lunch  \\\n",
       "0       0               1                            1      1   \n",
       "1       0               2                            4      1   \n",
       "2       0               1                            3      1   \n",
       "3       1               0                            0      0   \n",
       "4       1               2                            4      1   \n",
       "\n",
       "   test_preparation_course  math_score  reading_score  writing_score  \n",
       "0                        1          72       4.276666       4.304065  \n",
       "1                        0          69       4.499810       4.477337  \n",
       "2                        1          90       4.553877       4.532599  \n",
       "3                        1          47       4.043051       3.784190  \n",
       "4                        1          76       4.356709       4.317488  "
      ]
     },
     "execution_count": 14,
     "metadata": {},
     "output_type": "execute_result"
    }
   ],
   "source": [
    "df.head()"
   ]
  },
  {
   "cell_type": "code",
   "execution_count": 15,
   "id": "cacef2ca",
   "metadata": {},
   "outputs": [
    {
     "data": {
      "text/html": [
       "<div>\n",
       "<style scoped>\n",
       "    .dataframe tbody tr th:only-of-type {\n",
       "        vertical-align: middle;\n",
       "    }\n",
       "\n",
       "    .dataframe tbody tr th {\n",
       "        vertical-align: top;\n",
       "    }\n",
       "\n",
       "    .dataframe thead th {\n",
       "        text-align: right;\n",
       "    }\n",
       "</style>\n",
       "<table border=\"1\" class=\"dataframe\">\n",
       "  <thead>\n",
       "    <tr style=\"text-align: right;\">\n",
       "      <th></th>\n",
       "      <th>gender</th>\n",
       "      <th>race_ethnicity</th>\n",
       "      <th>parental_level_of_education</th>\n",
       "      <th>lunch</th>\n",
       "      <th>test_preparation_course</th>\n",
       "      <th>math_score</th>\n",
       "      <th>reading_score</th>\n",
       "      <th>writing_score</th>\n",
       "    </tr>\n",
       "  </thead>\n",
       "  <tbody>\n",
       "    <tr>\n",
       "      <th>gender</th>\n",
       "      <td>1.000000</td>\n",
       "      <td>-0.001502</td>\n",
       "      <td>0.001913</td>\n",
       "      <td>0.021372</td>\n",
       "      <td>-0.006028</td>\n",
       "      <td>0.167982</td>\n",
       "      <td>-0.226513</td>\n",
       "      <td>-0.271021</td>\n",
       "    </tr>\n",
       "    <tr>\n",
       "      <th>race_ethnicity</th>\n",
       "      <td>-0.001502</td>\n",
       "      <td>1.000000</td>\n",
       "      <td>-0.031946</td>\n",
       "      <td>0.046563</td>\n",
       "      <td>-0.017508</td>\n",
       "      <td>0.216415</td>\n",
       "      <td>0.143497</td>\n",
       "      <td>0.161450</td>\n",
       "    </tr>\n",
       "    <tr>\n",
       "      <th>parental_level_of_education</th>\n",
       "      <td>0.001913</td>\n",
       "      <td>-0.031946</td>\n",
       "      <td>1.000000</td>\n",
       "      <td>0.006320</td>\n",
       "      <td>-0.023968</td>\n",
       "      <td>-0.068279</td>\n",
       "      <td>-0.077167</td>\n",
       "      <td>-0.089715</td>\n",
       "    </tr>\n",
       "    <tr>\n",
       "      <th>lunch</th>\n",
       "      <td>0.021372</td>\n",
       "      <td>0.046563</td>\n",
       "      <td>0.006320</td>\n",
       "      <td>1.000000</td>\n",
       "      <td>0.017044</td>\n",
       "      <td>0.350877</td>\n",
       "      <td>0.231568</td>\n",
       "      <td>0.245325</td>\n",
       "    </tr>\n",
       "    <tr>\n",
       "      <th>test_preparation_course</th>\n",
       "      <td>-0.006028</td>\n",
       "      <td>-0.017508</td>\n",
       "      <td>-0.023968</td>\n",
       "      <td>0.017044</td>\n",
       "      <td>1.000000</td>\n",
       "      <td>-0.177702</td>\n",
       "      <td>-0.232599</td>\n",
       "      <td>-0.296548</td>\n",
       "    </tr>\n",
       "    <tr>\n",
       "      <th>math_score</th>\n",
       "      <td>0.167982</td>\n",
       "      <td>0.216415</td>\n",
       "      <td>-0.068279</td>\n",
       "      <td>0.350877</td>\n",
       "      <td>-0.177702</td>\n",
       "      <td>1.000000</td>\n",
       "      <td>0.807993</td>\n",
       "      <td>0.791786</td>\n",
       "    </tr>\n",
       "    <tr>\n",
       "      <th>reading_score</th>\n",
       "      <td>-0.226513</td>\n",
       "      <td>0.143497</td>\n",
       "      <td>-0.077167</td>\n",
       "      <td>0.231568</td>\n",
       "      <td>-0.232599</td>\n",
       "      <td>0.807993</td>\n",
       "      <td>1.000000</td>\n",
       "      <td>0.955257</td>\n",
       "    </tr>\n",
       "    <tr>\n",
       "      <th>writing_score</th>\n",
       "      <td>-0.271021</td>\n",
       "      <td>0.161450</td>\n",
       "      <td>-0.089715</td>\n",
       "      <td>0.245325</td>\n",
       "      <td>-0.296548</td>\n",
       "      <td>0.791786</td>\n",
       "      <td>0.955257</td>\n",
       "      <td>1.000000</td>\n",
       "    </tr>\n",
       "  </tbody>\n",
       "</table>\n",
       "</div>"
      ],
      "text/plain": [
       "                               gender  race_ethnicity  \\\n",
       "gender                       1.000000       -0.001502   \n",
       "race_ethnicity              -0.001502        1.000000   \n",
       "parental_level_of_education  0.001913       -0.031946   \n",
       "lunch                        0.021372        0.046563   \n",
       "test_preparation_course     -0.006028       -0.017508   \n",
       "math_score                   0.167982        0.216415   \n",
       "reading_score               -0.226513        0.143497   \n",
       "writing_score               -0.271021        0.161450   \n",
       "\n",
       "                             parental_level_of_education     lunch  \\\n",
       "gender                                          0.001913  0.021372   \n",
       "race_ethnicity                                 -0.031946  0.046563   \n",
       "parental_level_of_education                     1.000000  0.006320   \n",
       "lunch                                           0.006320  1.000000   \n",
       "test_preparation_course                        -0.023968  0.017044   \n",
       "math_score                                     -0.068279  0.350877   \n",
       "reading_score                                  -0.077167  0.231568   \n",
       "writing_score                                  -0.089715  0.245325   \n",
       "\n",
       "                             test_preparation_course  math_score  \\\n",
       "gender                                     -0.006028    0.167982   \n",
       "race_ethnicity                             -0.017508    0.216415   \n",
       "parental_level_of_education                -0.023968   -0.068279   \n",
       "lunch                                       0.017044    0.350877   \n",
       "test_preparation_course                     1.000000   -0.177702   \n",
       "math_score                                 -0.177702    1.000000   \n",
       "reading_score                              -0.232599    0.807993   \n",
       "writing_score                              -0.296548    0.791786   \n",
       "\n",
       "                             reading_score  writing_score  \n",
       "gender                           -0.226513      -0.271021  \n",
       "race_ethnicity                    0.143497       0.161450  \n",
       "parental_level_of_education      -0.077167      -0.089715  \n",
       "lunch                             0.231568       0.245325  \n",
       "test_preparation_course          -0.232599      -0.296548  \n",
       "math_score                        0.807993       0.791786  \n",
       "reading_score                     1.000000       0.955257  \n",
       "writing_score                     0.955257       1.000000  "
      ]
     },
     "execution_count": 15,
     "metadata": {},
     "output_type": "execute_result"
    }
   ],
   "source": [
    "# Correlation Matrix\n",
    "df.corr()"
   ]
  },
  {
   "cell_type": "code",
   "execution_count": 16,
   "id": "8cd9b1f3",
   "metadata": {},
   "outputs": [
    {
     "data": {
      "text/plain": [
       "<Axes: >"
      ]
     },
     "execution_count": 16,
     "metadata": {},
     "output_type": "execute_result"
    },
    {
     "data": {
      "image/png": "[encoded data removed]",
      "text/plain": [
       "<Figure size 640x480 with 2 Axes>"
      ]
     },
     "metadata": {},
     "output_type": "display_data"
    }
   ],
   "source": [
    "sns.heatmap(df.corr())"
   ]
  },
  {
   "cell_type": "markdown",
   "id": "fbd32281",
   "metadata": {},
   "source": [
    "#### Preparing X and Y variables"
   ]
  },
  {
   "cell_type": "code",
   "execution_count": 17,
   "id": "eded0b30",
   "metadata": {},
   "outputs": [],
   "source": [
    "X,y = df.drop(columns = \"math_score\"),df[\"math_score\"]"
   ]
  },
  {
   "cell_type": "code",
   "execution_count": 18,
   "id": "56d72fde",
   "metadata": {},
   "outputs": [],
   "source": [
    "X = df.drop(columns=['math_score'],axis=1)"
   ]
  },
  {
   "cell_type": "code",
   "execution_count": 19,
   "id": "cd613177",
   "metadata": {},
   "outputs": [
    {
     "data": {
      "text/html": [
       "<div>\n",
       "<style scoped>\n",
       "    .dataframe tbody tr th:only-of-type {\n",
       "        vertical-align: middle;\n",
       "    }\n",
       "\n",
       "    .dataframe tbody tr th {\n",
       "        vertical-align: top;\n",
       "    }\n",
       "\n",
       "    .dataframe thead th {\n",
       "        text-align: right;\n",
       "    }\n",
       "</style>\n",
       "<table border=\"1\" class=\"dataframe\">\n",
       "  <thead>\n",
       "    <tr style=\"text-align: right;\">\n",
       "      <th></th>\n",
       "      <th>gender</th>\n",
       "      <th>race_ethnicity</th>\n",
       "      <th>parental_level_of_education</th>\n",
       "      <th>lunch</th>\n",
       "      <th>test_preparation_course</th>\n",
       "      <th>reading_score</th>\n",
       "      <th>writing_score</th>\n",
       "    </tr>\n",
       "  </thead>\n",
       "  <tbody>\n",
       "    <tr>\n",
       "      <th>0</th>\n",
       "      <td>0</td>\n",
       "      <td>1</td>\n",
       "      <td>1</td>\n",
       "      <td>1</td>\n",
       "      <td>1</td>\n",
       "      <td>4.276666</td>\n",
       "      <td>4.304065</td>\n",
       "    </tr>\n",
       "    <tr>\n",
       "      <th>1</th>\n",
       "      <td>0</td>\n",
       "      <td>2</td>\n",
       "      <td>4</td>\n",
       "      <td>1</td>\n",
       "      <td>0</td>\n",
       "      <td>4.499810</td>\n",
       "      <td>4.477337</td>\n",
       "    </tr>\n",
       "    <tr>\n",
       "      <th>2</th>\n",
       "      <td>0</td>\n",
       "      <td>1</td>\n",
       "      <td>3</td>\n",
       "      <td>1</td>\n",
       "      <td>1</td>\n",
       "      <td>4.553877</td>\n",
       "      <td>4.532599</td>\n",
       "    </tr>\n",
       "    <tr>\n",
       "      <th>3</th>\n",
       "      <td>1</td>\n",
       "      <td>0</td>\n",
       "      <td>0</td>\n",
       "      <td>0</td>\n",
       "      <td>1</td>\n",
       "      <td>4.043051</td>\n",
       "      <td>3.784190</td>\n",
       "    </tr>\n",
       "    <tr>\n",
       "      <th>4</th>\n",
       "      <td>1</td>\n",
       "      <td>2</td>\n",
       "      <td>4</td>\n",
       "      <td>1</td>\n",
       "      <td>1</td>\n",
       "      <td>4.356709</td>\n",
       "      <td>4.317488</td>\n",
       "    </tr>\n",
       "  </tbody>\n",
       "</table>\n",
       "</div>"
      ],
      "text/plain": [
       "   gender  race_ethnicity  parental_level_of_education  lunch  \\\n",
       "0       0               1                            1      1   \n",
       "1       0               2                            4      1   \n",
       "2       0               1                            3      1   \n",
       "3       1               0                            0      0   \n",
       "4       1               2                            4      1   \n",
       "\n",
       "   test_preparation_course  reading_score  writing_score  \n",
       "0                        1       4.276666       4.304065  \n",
       "1                        0       4.499810       4.477337  \n",
       "2                        1       4.553877       4.532599  \n",
       "3                        1       4.043051       3.784190  \n",
       "4                        1       4.356709       4.317488  "
      ]
     },
     "execution_count": 19,
     "metadata": {},
     "output_type": "execute_result"
    }
   ],
   "source": [
    "X.head()"
   ]
  },
  {
   "cell_type": "code",
   "execution_count": 20,
   "id": "80bcd273",
   "metadata": {},
   "outputs": [
    {
     "data": {
      "text/plain": [
       "0    72\n",
       "1    69\n",
       "2    90\n",
       "3    47\n",
       "4    76\n",
       "Name: math_score, dtype: int64"
      ]
     },
     "execution_count": 20,
     "metadata": {},
     "output_type": "execute_result"
    }
   ],
   "source": [
    "y.head()"
   ]
  },
  {
   "cell_type": "code",
   "execution_count": 21,
   "id": "924b7f9d",
   "metadata": {},
   "outputs": [],
   "source": [
    "y = df['math_score']"
   ]
  },
  {
   "cell_type": "code",
   "execution_count": 22,
   "id": "ffc69816",
   "metadata": {},
   "outputs": [
    {
     "data": {
      "text/plain": [
       "0      72\n",
       "1      69\n",
       "2      90\n",
       "3      47\n",
       "4      76\n",
       "       ..\n",
       "995    88\n",
       "996    62\n",
       "997    59\n",
       "998    68\n",
       "999    77\n",
       "Name: math_score, Length: 1000, dtype: int64"
      ]
     },
     "execution_count": 22,
     "metadata": {},
     "output_type": "execute_result"
    }
   ],
   "source": [
    "y"
   ]
  },
  {
   "cell_type": "code",
   "execution_count": 23,
   "id": "ed5c4e99",
   "metadata": {},
   "outputs": [
    {
     "data": {
      "text/plain": [
       "((700, 7), (300, 7))"
      ]
     },
     "execution_count": 23,
     "metadata": {},
     "output_type": "execute_result"
    }
   ],
   "source": [
    "# separate dataset into train and test\n",
    "X_train, X_test, y_train, y_test = train_test_split(X,y,test_size=0.3,random_state=42)\n",
    "X_train.shape, X_test.shape"
   ]
  },
  {
   "cell_type": "code",
   "execution_count": 24,
   "id": "e2c37947",
   "metadata": {},
   "outputs": [
    {
     "data": {
      "text/html": [
       "<div>\n",
       "<style scoped>\n",
       "    .dataframe tbody tr th:only-of-type {\n",
       "        vertical-align: middle;\n",
       "    }\n",
       "\n",
       "    .dataframe tbody tr th {\n",
       "        vertical-align: top;\n",
       "    }\n",
       "\n",
       "    .dataframe thead th {\n",
       "        text-align: right;\n",
       "    }\n",
       "</style>\n",
       "<table border=\"1\" class=\"dataframe\">\n",
       "  <thead>\n",
       "    <tr style=\"text-align: right;\">\n",
       "      <th></th>\n",
       "      <th>gender</th>\n",
       "      <th>race_ethnicity</th>\n",
       "      <th>parental_level_of_education</th>\n",
       "      <th>lunch</th>\n",
       "      <th>test_preparation_course</th>\n",
       "      <th>reading_score</th>\n",
       "      <th>writing_score</th>\n",
       "    </tr>\n",
       "  </thead>\n",
       "  <tbody>\n",
       "    <tr>\n",
       "      <th>541</th>\n",
       "      <td>1</td>\n",
       "      <td>3</td>\n",
       "      <td>0</td>\n",
       "      <td>0</td>\n",
       "      <td>0</td>\n",
       "      <td>4.406719</td>\n",
       "      <td>4.382027</td>\n",
       "    </tr>\n",
       "    <tr>\n",
       "      <th>440</th>\n",
       "      <td>0</td>\n",
       "      <td>2</td>\n",
       "      <td>4</td>\n",
       "      <td>1</td>\n",
       "      <td>0</td>\n",
       "      <td>4.394449</td>\n",
       "      <td>4.369448</td>\n",
       "    </tr>\n",
       "    <tr>\n",
       "      <th>482</th>\n",
       "      <td>1</td>\n",
       "      <td>2</td>\n",
       "      <td>4</td>\n",
       "      <td>0</td>\n",
       "      <td>1</td>\n",
       "      <td>4.219508</td>\n",
       "      <td>4.110874</td>\n",
       "    </tr>\n",
       "    <tr>\n",
       "      <th>422</th>\n",
       "      <td>0</td>\n",
       "      <td>3</td>\n",
       "      <td>3</td>\n",
       "      <td>0</td>\n",
       "      <td>0</td>\n",
       "      <td>4.060443</td>\n",
       "      <td>4.204693</td>\n",
       "    </tr>\n",
       "    <tr>\n",
       "      <th>778</th>\n",
       "      <td>0</td>\n",
       "      <td>0</td>\n",
       "      <td>4</td>\n",
       "      <td>1</td>\n",
       "      <td>0</td>\n",
       "      <td>4.369448</td>\n",
       "      <td>4.406719</td>\n",
       "    </tr>\n",
       "    <tr>\n",
       "      <th>...</th>\n",
       "      <td>...</td>\n",
       "      <td>...</td>\n",
       "      <td>...</td>\n",
       "      <td>...</td>\n",
       "      <td>...</td>\n",
       "      <td>...</td>\n",
       "      <td>...</td>\n",
       "    </tr>\n",
       "    <tr>\n",
       "      <th>106</th>\n",
       "      <td>0</td>\n",
       "      <td>3</td>\n",
       "      <td>3</td>\n",
       "      <td>1</td>\n",
       "      <td>1</td>\n",
       "      <td>4.605170</td>\n",
       "      <td>4.605170</td>\n",
       "    </tr>\n",
       "    <tr>\n",
       "      <th>270</th>\n",
       "      <td>1</td>\n",
       "      <td>2</td>\n",
       "      <td>1</td>\n",
       "      <td>1</td>\n",
       "      <td>1</td>\n",
       "      <td>4.143135</td>\n",
       "      <td>4.110874</td>\n",
       "    </tr>\n",
       "    <tr>\n",
       "      <th>860</th>\n",
       "      <td>0</td>\n",
       "      <td>2</td>\n",
       "      <td>0</td>\n",
       "      <td>1</td>\n",
       "      <td>1</td>\n",
       "      <td>4.127134</td>\n",
       "      <td>3.970292</td>\n",
       "    </tr>\n",
       "    <tr>\n",
       "      <th>435</th>\n",
       "      <td>1</td>\n",
       "      <td>2</td>\n",
       "      <td>4</td>\n",
       "      <td>0</td>\n",
       "      <td>0</td>\n",
       "      <td>3.871201</td>\n",
       "      <td>3.970292</td>\n",
       "    </tr>\n",
       "    <tr>\n",
       "      <th>102</th>\n",
       "      <td>0</td>\n",
       "      <td>3</td>\n",
       "      <td>0</td>\n",
       "      <td>1</td>\n",
       "      <td>1</td>\n",
       "      <td>4.510860</td>\n",
       "      <td>4.488636</td>\n",
       "    </tr>\n",
       "  </tbody>\n",
       "</table>\n",
       "<p>700 rows × 7 columns</p>\n",
       "</div>"
      ],
      "text/plain": [
       "     gender  race_ethnicity  parental_level_of_education  lunch  \\\n",
       "541       1               3                            0      0   \n",
       "440       0               2                            4      1   \n",
       "482       1               2                            4      0   \n",
       "422       0               3                            3      0   \n",
       "778       0               0                            4      1   \n",
       "..      ...             ...                          ...    ...   \n",
       "106       0               3                            3      1   \n",
       "270       1               2                            1      1   \n",
       "860       0               2                            0      1   \n",
       "435       1               2                            4      0   \n",
       "102       0               3                            0      1   \n",
       "\n",
       "     test_preparation_course  reading_score  writing_score  \n",
       "541                        0       4.406719       4.382027  \n",
       "440                        0       4.394449       4.369448  \n",
       "482                        1       4.219508       4.110874  \n",
       "422                        0       4.060443       4.204693  \n",
       "778                        0       4.369448       4.406719  \n",
       "..                       ...            ...            ...  \n",
       "106                        1       4.605170       4.605170  \n",
       "270                        1       4.143135       4.110874  \n",
       "860                        1       4.127134       3.970292  \n",
       "435                        0       3.871201       3.970292  \n",
       "102                        1       4.510860       4.488636  \n",
       "\n",
       "[700 rows x 7 columns]"
      ]
     },
     "execution_count": 24,
     "metadata": {},
     "output_type": "execute_result"
    }
   ],
   "source": [
    "X_train"
   ]
  },
  {
   "cell_type": "markdown",
   "id": "4cd80317",
   "metadata": {},
   "source": [
    "#### Create an Evaluate Function to give all metrics after model Training"
   ]
  },
  {
   "cell_type": "code",
   "execution_count": 25,
   "id": "8c247bd0",
   "metadata": {},
   "outputs": [],
   "source": [
    "def evaluate_model(true, predicted):\n",
    "    mae = mean_absolute_error(true, predicted)\n",
    "    mse = mean_squared_error(true, predicted)\n",
    "    rmse = np.sqrt(mean_squared_error(true, predicted))\n",
    "    r2_square = r2_score(true, predicted)\n",
    "    return mae, rmse, r2_square"
   ]
  },
  {
   "cell_type": "code",
   "execution_count": 26,
   "id": "79ccb8e7",
   "metadata": {
    "scrolled": false
   },
   "outputs": [
    {
     "name": "stdout",
     "output_type": "stream",
     "text": [
      "Linear Regression\n",
      "Model performance for Training set\n",
      "- Root Mean Squared Error: 5.9601\n",
      "- Mean Absolute Error: 4.7482\n",
      "- R2 Score: 0.8390\n",
      "\n",
      "----------------------------------\n",
      "\n",
      "Model performance for Test set\n",
      "- Root Mean Squared Error: 7.3107\n",
      "- Mean Absolute Error: 5.2045\n",
      "- R2 Score: 0.7852\n",
      "===================================\n",
      "\n",
      "\n",
      "Lasso\n",
      "Model performance for Training set\n",
      "- Root Mean Squared Error: 8.2503\n",
      "- Mean Absolute Error: 6.5981\n",
      "- R2 Score: 0.6914\n",
      "\n",
      "----------------------------------\n",
      "\n",
      "Model performance for Test set\n",
      "- Root Mean Squared Error: 8.2991\n",
      "- Mean Absolute Error: 6.7542\n",
      "- R2 Score: 0.7232\n",
      "===================================\n",
      "\n",
      "\n",
      "Ridge\n",
      "Model performance for Training set\n",
      "- Root Mean Squared Error: 5.9669\n",
      "- Mean Absolute Error: 4.7558\n",
      "- R2 Score: 0.8386\n",
      "\n",
      "----------------------------------\n",
      "\n",
      "Model performance for Test set\n",
      "- Root Mean Squared Error: 7.1791\n",
      "- Mean Absolute Error: 5.1739\n",
      "- R2 Score: 0.7929\n",
      "===================================\n",
      "\n",
      "\n",
      "K-Neighbors Regressor\n",
      "Model performance for Training set\n",
      "- Root Mean Squared Error: 8.4398\n",
      "- Mean Absolute Error: 6.6166\n",
      "- R2 Score: 0.6771\n",
      "\n",
      "----------------------------------\n",
      "\n",
      "Model performance for Test set\n",
      "- Root Mean Squared Error: 11.4656\n",
      "- Mean Absolute Error: 8.9493\n",
      "- R2 Score: 0.4716\n",
      "===================================\n",
      "\n",
      "\n",
      "Decision Tree\n",
      "Model performance for Training set\n",
      "- Root Mean Squared Error: 0.2988\n",
      "- Mean Absolute Error: 0.0214\n",
      "- R2 Score: 0.9996\n",
      "\n",
      "----------------------------------\n",
      "\n",
      "Model performance for Test set\n",
      "- Root Mean Squared Error: 8.1043\n",
      "- Mean Absolute Error: 6.4200\n",
      "- R2 Score: 0.7360\n",
      "===================================\n",
      "\n",
      "\n",
      "Random Forest Regressor\n",
      "Model performance for Training set\n",
      "- Root Mean Squared Error: 2.3026\n",
      "- Mean Absolute Error: 1.8374\n",
      "- R2 Score: 0.9760\n",
      "\n",
      "----------------------------------\n",
      "\n",
      "Model performance for Test set\n",
      "- Root Mean Squared Error: 6.2288\n",
      "- Mean Absolute Error: 4.9003\n",
      "- R2 Score: 0.8441\n",
      "===================================\n",
      "\n",
      "\n",
      "XGBRegressor\n",
      "Model performance for Training set\n",
      "- Root Mean Squared Error: 0.8685\n",
      "- Mean Absolute Error: 0.5674\n",
      "- R2 Score: 0.9966\n",
      "\n",
      "----------------------------------\n",
      "\n",
      "Model performance for Test set\n",
      "- Root Mean Squared Error: 6.8770\n",
      "- Mean Absolute Error: 5.4840\n",
      "- R2 Score: 0.8099\n",
      "===================================\n",
      "\n",
      "\n",
      "AdaBoost Regressor\n",
      "Model performance for Training set\n",
      "- Root Mean Squared Error: 5.9021\n",
      "- Mean Absolute Error: 4.7795\n",
      "- R2 Score: 0.8421\n",
      "\n",
      "----------------------------------\n",
      "\n",
      "Model performance for Test set\n",
      "- Root Mean Squared Error: 6.5259\n",
      "- Mean Absolute Error: 5.1036\n",
      "- R2 Score: 0.8288\n",
      "===================================\n",
      "\n",
      "\n"
     ]
    }
   ],
   "source": [
    "models = {\n",
    "    \"Linear Regression\": LinearRegression(),\n",
    "    \"Lasso\": Lasso(),\n",
    "    \"Ridge\": Ridge(),\n",
    "    \"K-Neighbors Regressor\": KNeighborsRegressor(),\n",
    "    \"Decision Tree\": DecisionTreeRegressor(),\n",
    "    \"Random Forest Regressor\": RandomForestRegressor(),\n",
    "    \"XGBRegressor\": XGBRegressor(), \n",
    "    # \"CatBoosting Regressor\": CatBoostRegressor(verbose=False),\n",
    "    \"AdaBoost Regressor\": AdaBoostRegressor()\n",
    "}\n",
    "model_list = []\n",
    "r2_list =[]\n",
    "\n",
    "for i in range(len(list(models))):\n",
    "    model = list(models.values())[i]\n",
    "    model.fit(X_train, y_train) # Train model\n",
    "\n",
    "    # Make predictions\n",
    "    y_train_pred = model.predict(X_train)\n",
    "    y_test_pred = model.predict(X_test)\n",
    "    \n",
    "    # Evaluate Train and Test dataset\n",
    "    model_train_mae , model_train_rmse, model_train_r2 = evaluate_model(y_train, y_train_pred)\n",
    "\n",
    "    model_test_mae , model_test_rmse, model_test_r2 = evaluate_model(y_test, y_test_pred)\n",
    "\n",
    "    \n",
    "    print(list(models.keys())[i])\n",
    "    model_list.append(list(models.keys())[i])\n",
    "    \n",
    "    print('Model performance for Training set')\n",
    "    print(\"- Root Mean Squared Error: {:.4f}\".format(model_train_rmse))\n",
    "    print(\"- Mean Absolute Error: {:.4f}\".format(model_train_mae))\n",
    "    print(\"- R2 Score: {:.4f}\".format(model_train_r2))\n",
    "    print()\n",
    "    print('----------------------------------')\n",
    "    print()\n",
    "    \n",
    "    print('Model performance for Test set')\n",
    "    print(\"- Root Mean Squared Error: {:.4f}\".format(model_test_rmse))\n",
    "    print(\"- Mean Absolute Error: {:.4f}\".format(model_test_mae))\n",
    "    print(\"- R2 Score: {:.4f}\".format(model_test_r2))\n",
    "    r2_list.append(model_test_r2)\n",
    "    \n",
    "    print('='*35)\n",
    "    print('\\n')"
   ]
  },
  {
   "cell_type": "markdown",
   "id": "06480b5a",
   "metadata": {},
   "source": [
    "### Results"
   ]
  },
  {
   "cell_type": "code",
   "execution_count": 27,
   "id": "e0159e5f",
   "metadata": {},
   "outputs": [
    {
     "data": {
      "text/html": [
       "<div>\n",
       "<style scoped>\n",
       "    .dataframe tbody tr th:only-of-type {\n",
       "        vertical-align: middle;\n",
       "    }\n",
       "\n",
       "    .dataframe tbody tr th {\n",
       "        vertical-align: top;\n",
       "    }\n",
       "\n",
       "    .dataframe thead th {\n",
       "        text-align: right;\n",
       "    }\n",
       "</style>\n",
       "<table border=\"1\" class=\"dataframe\">\n",
       "  <thead>\n",
       "    <tr style=\"text-align: right;\">\n",
       "      <th></th>\n",
       "      <th>Model Name</th>\n",
       "      <th>R2_Score</th>\n",
       "    </tr>\n",
       "  </thead>\n",
       "  <tbody>\n",
       "    <tr>\n",
       "      <th>5</th>\n",
       "      <td>Random Forest Regressor</td>\n",
       "      <td>0.844068</td>\n",
       "    </tr>\n",
       "    <tr>\n",
       "      <th>7</th>\n",
       "      <td>AdaBoost Regressor</td>\n",
       "      <td>0.828838</td>\n",
       "    </tr>\n",
       "    <tr>\n",
       "      <th>6</th>\n",
       "      <td>XGBRegressor</td>\n",
       "      <td>0.809923</td>\n",
       "    </tr>\n",
       "    <tr>\n",
       "      <th>2</th>\n",
       "      <td>Ridge</td>\n",
       "      <td>0.792855</td>\n",
       "    </tr>\n",
       "    <tr>\n",
       "      <th>0</th>\n",
       "      <td>Linear Regression</td>\n",
       "      <td>0.785194</td>\n",
       "    </tr>\n",
       "    <tr>\n",
       "      <th>4</th>\n",
       "      <td>Decision Tree</td>\n",
       "      <td>0.736024</td>\n",
       "    </tr>\n",
       "    <tr>\n",
       "      <th>1</th>\n",
       "      <td>Lasso</td>\n",
       "      <td>0.723183</td>\n",
       "    </tr>\n",
       "    <tr>\n",
       "      <th>3</th>\n",
       "      <td>K-Neighbors Regressor</td>\n",
       "      <td>0.471650</td>\n",
       "    </tr>\n",
       "  </tbody>\n",
       "</table>\n",
       "</div>"
      ],
      "text/plain": [
       "                Model Name  R2_Score\n",
       "5  Random Forest Regressor  0.844068\n",
       "7       AdaBoost Regressor  0.828838\n",
       "6             XGBRegressor  0.809923\n",
       "2                    Ridge  0.792855\n",
       "0        Linear Regression  0.785194\n",
       "4            Decision Tree  0.736024\n",
       "1                    Lasso  0.723183\n",
       "3    K-Neighbors Regressor  0.471650"
      ]
     },
     "execution_count": 27,
     "metadata": {},
     "output_type": "execute_result"
    }
   ],
   "source": [
    "pd.DataFrame(list(zip(model_list, r2_list)), columns=['Model Name', 'R2_Score']).sort_values(by=[\"R2_Score\"],ascending=False)"
   ]
  },
  {
   "cell_type": "markdown",
   "id": "67614d96",
   "metadata": {},
   "source": [
    "## Random Forest Regressor"
   ]
  },
  {
   "cell_type": "code",
   "execution_count": 28,
   "id": "2b854e0c",
   "metadata": {},
   "outputs": [
    {
     "name": "stdout",
     "output_type": "stream",
     "text": [
      "Accuracy of the Random Forest model is 84.44\n"
     ]
    }
   ],
   "source": [
    "# Import the RandomForestRegressor class from the ensemble module\n",
    "from sklearn.ensemble import RandomForestRegressor\n",
    "\n",
    "# Instantiate the RandomForestRegressor with default hyperparameters\n",
    "rf_model = RandomForestRegressor(random_state=42)\n",
    "\n",
    "# Train the model on the training data\n",
    "rf_model.fit(X_train, y_train)\n",
    "\n",
    "# Make predictions on the testing data\n",
    "y_pred_rf = rf_model.predict(X_test)\n",
    "\n",
    "# Calculate R-squared score\n",
    "score_rf = r2_score(y_test, y_pred_rf) * 100\n",
    "\n",
    "print(\"Accuracy of the Random Forest model is %.2f\" % score_rf)\n"
   ]
  },
  {
   "cell_type": "code",
   "execution_count": 29,
   "id": "dd699964",
   "metadata": {},
   "outputs": [
    {
     "name": "stdout",
     "output_type": "stream",
     "text": [
      "Accuracy of Random Forest Regressor Model is  84.43922888283235\n"
     ]
    }
   ],
   "source": [
    "print(\"Accuracy of Random Forest Regressor Model is \",rf_model.score(X_test,y_test)*100)"
   ]
  },
  {
   "cell_type": "code",
   "execution_count": 30,
   "id": "376f90ba",
   "metadata": {},
   "outputs": [
    {
     "name": "stdout",
     "output_type": "stream",
     "text": [
      "Cross validation is 83.62571898492392\n"
     ]
    }
   ],
   "source": [
    "score = cross_val_score(rf_model, X, y, cv=5)\n",
    "print(\"Cross validation is\",np.mean(score)*100)"
   ]
  },
  {
   "cell_type": "code",
   "execution_count": 31,
   "id": "7784a5fe",
   "metadata": {},
   "outputs": [
    {
     "name": "stdout",
     "output_type": "stream",
     "text": [
      "Predicted math score: 94.04309523809523\n"
     ]
    }
   ],
   "source": [
    "# Create a dictionary with values for each feature\n",
    "new_data = {\n",
    "    'gender': 1,  # Example: 1 for male, 0 for female\n",
    "    'race_ethnicity': 2,  # Example: 0 for group A, 1 for group B, and so on\n",
    "    'parental_level_of_education': 3,  # Example: 0 for bachelor's degree, 1 for some college, and so on\n",
    "    'lunch': 1,  # Example: 1 for standard, 0 for free/reduced\n",
    "    'test_preparation_course': 0,  # Example: 1 for completed, 0 for none\n",
    "    'reading_score': 85,  # Example: 85\n",
    "    'writing_score': 90  # Example: 90\n",
    "}\n",
    "\n",
    "# Convert the dictionary to a DataFrame\n",
    "new_df = pd.DataFrame([new_data])\n",
    "\n",
    "# Make prediction using the trained Random Forest model\n",
    "predicted_math_score = rf_model.predict(new_df)\n",
    "\n",
    "print(\"Predicted math score:\", predicted_math_score[0])\n"
   ]
  },
  {
   "cell_type": "code",
   "execution_count": 32,
   "id": "3a98af39",
   "metadata": {},
   "outputs": [
    {
     "name": "stdout",
     "output_type": "stream",
     "text": [
      "Predicted math score: 93.7\n"
     ]
    }
   ],
   "source": [
    "# Create a dictionary to store user input\n",
    "new_data = {}\n",
    "\n",
    "# Prompt the user for input for each feature\n",
    "new_data['gender'] = input(\"Enter gender (male/female): \").lower()\n",
    "new_data['race_ethnicity'] = input(\"Enter race/ethnicity (group A/B/C/D/E): \").lower()\n",
    "new_data['parental_level_of_education'] = input(\"Enter parental level of education: \").lower()\n",
    "new_data['lunch'] = input(\"Enter type of lunch (standard/free/reduced): \").lower()\n",
    "new_data['test_preparation_course'] = input(\"Enter test preparation course (none/completed): \").lower()\n",
    "new_data['reading_score'] = float(input(\"Enter reading score: \"))\n",
    "new_data['writing_score'] = float(input(\"Enter writing score: \"))\n",
    "\n",
    "# Map string inputs to numeric values\n",
    "gender_map = {'male': 1, 'female': 0}\n",
    "race_map = {'group a': 0, 'group b': 1, 'group c': 2, 'group d': 3, 'group e': 4}\n",
    "edu_map = {'associate\\'s degree': 0, 'bachelor\\'s degree': 1, 'high school': 2, 'some college': 3, 'master\\'s degree': 4, 'professional degree': 5, 'some high school': 6}\n",
    "lunch_map = {'standard': 1, 'free': 0, 'reduced': 0}\n",
    "course_map = {'none': 0, 'completed': 1}\n",
    "\n",
    "# Convert string inputs to numeric values\n",
    "new_data['gender'] = gender_map.get(new_data['gender'], None)\n",
    "new_data['race_ethnicity'] = race_map.get(new_data['race_ethnicity'], None)\n",
    "new_data['parental_level_of_education'] = edu_map.get(new_data['parental_level_of_education'], None)\n",
    "new_data['parental_level_of_education'] = new_data['parental_level_of_education']  # No mapping required for this feature\n",
    "new_data['lunch'] = lunch_map.get(new_data['lunch'], None)\n",
    "new_data['test_preparation_course'] = course_map.get(new_data['test_preparation_course'], None)\n",
    "\n",
    "# Check if any feature is missing or if lunch input is invalid\n",
    "if None in new_data.values() or new_data['lunch'] is None:\n",
    "    print(\"Invalid input!\")\n",
    "else:\n",
    "    # Convert the dictionary to a DataFrame\n",
    "    new_df = pd.DataFrame([new_data])\n",
    "\n",
    "    # Make prediction using the trained Random Forest model\n",
    "    predicted_math_score = rf_model.predict(new_df)\n",
    "\n",
    "    print(\"Predicted math score:\", predicted_math_score[0])\n"
   ]
  },
  {
   "cell_type": "code",
   "execution_count": 33,
   "id": "3c1f259e",
   "metadata": {},
   "outputs": [],
   "source": [
    "import pickle\n",
    "# open a file, where you want to store the data\n",
    "file = open('model.pkl', 'wb')\n",
    "\n",
    "# dump information to that file\n",
    "pickle.dump(rf_model, file)"
   ]
  },
  {
   "cell_type": "markdown",
   "id": "1d31453e",
   "metadata": {},
   "source": [
    "## Plot y_pred and y_test"
   ]
  },
  {
   "cell_type": "code",
   "execution_count": 35,
   "id": "eb557b0a",
   "metadata": {},
   "outputs": [
    {
     "data": {
      "image/png": "[encoded data removed]",
      "text/plain": [
       "<Figure size 640x480 with 1 Axes>"
      ]
     },
     "metadata": {},
     "output_type": "display_data"
    }
   ],
   "source": [
    "plt.scatter(y_test,y_pred_rf);\n",
    "plt.xlabel('Actual');\n",
    "plt.ylabel('Predicted');"
   ]
  },
  {
   "cell_type": "code",
   "execution_count": 36,
   "id": "1e707ec3",
   "metadata": {},
   "outputs": [
    {
     "data": {
      "image/png": "[encoded data removed]",
      "text/plain": [
       "<Figure size 640x480 with 1 Axes>"
      ]
     },
     "metadata": {},
     "output_type": "display_data"
    }
   ],
   "source": [
    "sns.regplot(x=y_test,y=y_pred_rf,ci=None,color ='red');"
   ]
  },
  {
   "cell_type": "markdown",
   "id": "79c2fe28",
   "metadata": {},
   "source": [
    "#### Difference between Actual and Predicted Values"
   ]
  },
  {
   "cell_type": "code",
   "execution_count": 37,
   "id": "7c9a8b48",
   "metadata": {},
   "outputs": [
    {
     "data": {
      "text/html": [
       "<div>\n",
       "<style scoped>\n",
       "    .dataframe tbody tr th:only-of-type {\n",
       "        vertical-align: middle;\n",
       "    }\n",
       "\n",
       "    .dataframe tbody tr th {\n",
       "        vertical-align: top;\n",
       "    }\n",
       "\n",
       "    .dataframe thead th {\n",
       "        text-align: right;\n",
       "    }\n",
       "</style>\n",
       "<table border=\"1\" class=\"dataframe\">\n",
       "  <thead>\n",
       "    <tr style=\"text-align: right;\">\n",
       "      <th></th>\n",
       "      <th>Actual Value</th>\n",
       "      <th>Predicted Value</th>\n",
       "      <th>Difference</th>\n",
       "    </tr>\n",
       "  </thead>\n",
       "  <tbody>\n",
       "    <tr>\n",
       "      <th>521</th>\n",
       "      <td>91</td>\n",
       "      <td>74.35</td>\n",
       "      <td>16.65</td>\n",
       "    </tr>\n",
       "    <tr>\n",
       "      <th>737</th>\n",
       "      <td>53</td>\n",
       "      <td>56.50</td>\n",
       "      <td>-3.50</td>\n",
       "    </tr>\n",
       "    <tr>\n",
       "      <th>740</th>\n",
       "      <td>80</td>\n",
       "      <td>75.94</td>\n",
       "      <td>4.06</td>\n",
       "    </tr>\n",
       "    <tr>\n",
       "      <th>660</th>\n",
       "      <td>74</td>\n",
       "      <td>76.43</td>\n",
       "      <td>-2.43</td>\n",
       "    </tr>\n",
       "    <tr>\n",
       "      <th>411</th>\n",
       "      <td>84</td>\n",
       "      <td>80.38</td>\n",
       "      <td>3.62</td>\n",
       "    </tr>\n",
       "    <tr>\n",
       "      <th>...</th>\n",
       "      <td>...</td>\n",
       "      <td>...</td>\n",
       "      <td>...</td>\n",
       "    </tr>\n",
       "    <tr>\n",
       "      <th>468</th>\n",
       "      <td>77</td>\n",
       "      <td>70.91</td>\n",
       "      <td>6.09</td>\n",
       "    </tr>\n",
       "    <tr>\n",
       "      <th>935</th>\n",
       "      <td>70</td>\n",
       "      <td>62.71</td>\n",
       "      <td>7.29</td>\n",
       "    </tr>\n",
       "    <tr>\n",
       "      <th>428</th>\n",
       "      <td>65</td>\n",
       "      <td>60.62</td>\n",
       "      <td>4.38</td>\n",
       "    </tr>\n",
       "    <tr>\n",
       "      <th>7</th>\n",
       "      <td>40</td>\n",
       "      <td>46.03</td>\n",
       "      <td>-6.03</td>\n",
       "    </tr>\n",
       "    <tr>\n",
       "      <th>155</th>\n",
       "      <td>70</td>\n",
       "      <td>73.31</td>\n",
       "      <td>-3.31</td>\n",
       "    </tr>\n",
       "  </tbody>\n",
       "</table>\n",
       "<p>300 rows × 3 columns</p>\n",
       "</div>"
      ],
      "text/plain": [
       "     Actual Value  Predicted Value  Difference\n",
       "521            91            74.35       16.65\n",
       "737            53            56.50       -3.50\n",
       "740            80            75.94        4.06\n",
       "660            74            76.43       -2.43\n",
       "411            84            80.38        3.62\n",
       "..            ...              ...         ...\n",
       "468            77            70.91        6.09\n",
       "935            70            62.71        7.29\n",
       "428            65            60.62        4.38\n",
       "7              40            46.03       -6.03\n",
       "155            70            73.31       -3.31\n",
       "\n",
       "[300 rows x 3 columns]"
      ]
     },
     "execution_count": 37,
     "metadata": {},
     "output_type": "execute_result"
    }
   ],
   "source": [
    "pred_df=pd.DataFrame({'Actual Value':y_test,'Predicted Value':y_pred_rf,'Difference':y_test-y_pred_rf})\n",
    "pred_df"
   ]
  }
 ],
 "metadata": {
  "kernelspec": {
   "display_name": "Python 3 (ipykernel)",
   "language": "python",
   "name": "python3"
  },
  "language_info": {
   "codemirror_mode": {
    "name": "ipython",
    "version": 3
   },
   "file_extension": ".py",
   "mimetype": "text/x-python",
   "name": "python",
   "nbconvert_exporter": "python",
   "pygments_lexer": "ipython3",
   "version": "3.8.19"
  }
 },
 "nbformat": 4,
 "nbformat_minor": 5
}
